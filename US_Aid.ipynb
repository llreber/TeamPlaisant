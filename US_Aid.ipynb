{
 "cells": [
  {
   "cell_type": "code",
   "execution_count": 1,
   "metadata": {},
   "outputs": [],
   "source": [
    "import os\n",
    "\n",
    "import pandas as pd\n",
    "import numpy as np\n",
    "\n",
    "import sqlalchemy\n",
    "from sqlalchemy.ext.automap import automap_base\n",
    "from sqlalchemy.orm import Session\n",
    "from sqlalchemy import create_engine, func, inspect\n",
    "\n",
    "from flask import Flask, jsonify, render_template\n",
    "from flask_sqlalchemy import SQLAlchemy"
   ]
  },
  {
   "cell_type": "code",
   "execution_count": 2,
   "metadata": {},
   "outputs": [
    {
     "name": "stderr",
     "output_type": "stream",
     "text": [
      "C:\\Users\\llreb\\Anaconda3\\envs\\PythonData\\lib\\site-packages\\flask_sqlalchemy\\__init__.py:794: FSADeprecationWarning: SQLALCHEMY_TRACK_MODIFICATIONS adds significant overhead and will be disabled by default in the future.  Set it to True or False to suppress this warning.\n",
      "  'SQLALCHEMY_TRACK_MODIFICATIONS adds significant overhead and '\n"
     ]
    }
   ],
   "source": [
    "app = Flask(__name__)\n",
    "app.config[\"SQLALCHEMY_DATABASE_URI\"] = \"sqlite:///aid_data.sqlite\"\n",
    "db = SQLAlchemy(app)\n",
    "\n",
    "# reflect an existing database into a new model\n",
    "Base = automap_base()\n",
    "\n",
    "# reflect the tables\n",
    "Base.prepare(db.engine, reflect=True)\n",
    "\n",
    "aid = Base.classes.aid_data"
   ]
  },
  {
   "cell_type": "code",
   "execution_count": 3,
   "metadata": {},
   "outputs": [],
   "source": [
    "year = 1996"
   ]
  },
  {
   "cell_type": "code",
   "execution_count": 3,
   "metadata": {},
   "outputs": [
    {
     "name": "stdout",
     "output_type": "stream",
     "text": [
      "[{'country': 'Afghanistan', 'latitude': 33.93911, 'longitude': 67.709953, 'transaction type': 'Obligations', 'amount': 24036781.0, 'year': 1996.0}, {'country': 'Albania', 'latitude': 41.153332, 'longitude': 20.168331, 'transaction type': 'Obligations', 'amount': 49025874.0, 'year': 1996.0}, {'country': 'Algeria', 'latitude': 28.033886, 'longitude': 1.6596259999999998, 'transaction type': 'Obligations', 'amount': 214396.0, 'year': 1996.0}, {'country': 'Angola', 'latitude': -11.202691999999999, 'longitude': 17.873887, 'transaction type': 'Obligations', 'amount': 133784437.0, 'year': 1996.0}, {'country': 'Antigua and Barbuda', 'latitude': 17.060816, 'longitude': -61.796428000000006, 'transaction type': 'Obligations', 'amount': 258553.0, 'year': 1996.0}, {'country': 'Argentina', 'latitude': -38.416097, 'longitude': -63.616671999999994, 'transaction type': 'Obligations', 'amount': 24748734.0, 'year': 1996.0}, {'country': 'Armenia', 'latitude': 40.069099, 'longitude': 45.038189, 'transaction type': 'Obligations', 'amount': 114728143.0, 'year': 1996.0}, {'country': 'Austria', 'latitude': 47.516231, 'longitude': 14.550072, 'transaction type': 'Obligations', 'amount': 21788.0, 'year': 1996.0}, {'country': 'Azerbaijan', 'latitude': 40.143105, 'longitude': 47.576927000000005, 'transaction type': 'Obligations', 'amount': 19675482.0, 'year': 1996.0}, {'country': 'Bahamas', 'latitude': 25.03428, 'longitude': -77.39628, 'transaction type': 'Obligations', 'amount': 1295674.0, 'year': 1996.0}, {'country': 'Bahrain', 'latitude': 25.930414000000003, 'longitude': 50.637772, 'transaction type': 'Obligations', 'amount': 119530287.0, 'year': 1996.0}, {'country': 'Bangladesh', 'latitude': 23.684994, 'longitude': 90.35633100000001, 'transaction type': 'Obligations', 'amount': 70897611.0, 'year': 1996.0}, {'country': 'Barbados', 'latitude': 13.193887, 'longitude': -59.543198, 'transaction type': 'Obligations', 'amount': 2075692.0, 'year': 1996.0}, {'country': 'Belarus', 'latitude': 53.709807, 'longitude': 27.953389, 'transaction type': 'Obligations', 'amount': 38539688.0, 'year': 1996.0}, {'country': 'Belgium', 'latitude': 50.503887, 'longitude': 4.469936, 'transaction type': 'Obligations', 'amount': 453195.0, 'year': 1996.0}, {'country': 'Belize', 'latitude': 17.189877, 'longitude': -88.49765, 'transaction type': 'Obligations', 'amount': 2143961.0, 'year': 1996.0}, {'country': 'Benin', 'latitude': 9.30769, 'longitude': 2.315834, 'transaction type': 'Obligations', 'amount': 23902421.0, 'year': 1996.0}, {'country': 'Bolivia', 'latitude': -16.290154, 'longitude': -63.588653, 'transaction type': 'Obligations', 'amount': 126787043.0, 'year': 1996.0}, {'country': 'Bosnia and Herzegovina', 'latitude': 43.915886, 'longitude': 17.679076000000002, 'transaction type': 'Obligations', 'amount': 479179637.0, 'year': 1996.0}, {'country': 'Botswana', 'latitude': -22.328474, 'longitude': 24.684866, 'transaction type': 'Obligations', 'amount': 3239184.0, 'year': 1996.0}, {'country': 'Brazil', 'latitude': -14.235004, 'longitude': -51.92528, 'transaction type': 'Obligations', 'amount': 7668855.0, 'year': 1996.0}, {'country': 'Bulgaria', 'latitude': 42.733883, 'longitude': 25.48583, 'transaction type': 'Obligations', 'amount': 56547617.0, 'year': 1996.0}, {'country': 'Burkina Faso', 'latitude': 12.238333, 'longitude': -1.561593, 'transaction type': 'Obligations', 'amount': 13296924.0, 'year': 1996.0}, {'country': 'Burma (Myanmar)', 'latitude': 21.913965, 'longitude': 95.956223, 'transaction type': 'Obligations', 'amount': 769851.0, 'year': 1996.0}, {'country': 'Burundi', 'latitude': -3.3730559999999996, 'longitude': 29.918885999999997, 'transaction type': 'Obligations', 'amount': 1615235.0, 'year': 1996.0}, {'country': 'Cabo Verde', 'latitude': 16.002082, 'longitude': -24.013197, 'transaction type': 'Obligations', 'amount': 10901236.0, 'year': 1996.0}, {'country': 'Cambodia', 'latitude': 12.565679, 'longitude': 104.990963, 'transaction type': 'Obligations', 'amount': 45396942.0, 'year': 1996.0}, {'country': 'Cameroon', 'latitude': 7.369722, 'longitude': 12.354722, 'transaction type': 'Obligations', 'amount': 5707066.0, 'year': 1996.0}, {'country': 'Central African Republic', 'latitude': 6.611111, 'longitude': 20.939444, 'transaction type': 'Obligations', 'amount': 1751773.0, 'year': 1996.0}, {'country': 'Chad', 'latitude': 15.454166, 'longitude': 18.732207, 'transaction type': 'Obligations', 'amount': 8564228.0, 'year': 1996.0}, {'country': 'Chile', 'latitude': -35.675146999999996, 'longitude': -71.542969, 'transaction type': 'Obligations', 'amount': 4037399.0, 'year': 1996.0}, {'country': 'China (P.R. Hong Kong)', 'latitude': 22.396428, 'longitude': 114.10949699999999, 'transaction type': 'Obligations', 'amount': 52292.0, 'year': 1996.0}, {'country': 'China (P.R.C.)', 'latitude': 35.86166, 'longitude': 104.195397, 'transaction type': 'Obligations', 'amount': 4520260.0, 'year': 1996.0}, {'country': 'Colombia', 'latitude': 4.570868, 'longitude': -74.297333, 'transaction type': 'Obligations', 'amount': 30411728.0, 'year': 1996.0}, {'country': 'Comoros', 'latitude': -11.875001, 'longitude': 43.872219, 'transaction type': 'Obligations', 'amount': 171401.0, 'year': 1996.0}, {'country': 'Congo (Brazzaville)', 'latitude': -0.228021, 'longitude': 15.827658999999999, 'transaction type': 'Obligations', 'amount': 17556960.0, 'year': 1996.0}, {'country': 'Congo (Kinshasa)', 'latitude': -4.038333000000001, 'longitude': 21.758664000000003, 'transaction type': 'Obligations', 'amount': 2440254.0, 'year': 1996.0}, {'country': 'Costa Rica', 'latitude': 9.748917, 'longitude': -83.753428, 'transaction type': 'Obligations', 'amount': 3446806.0, 'year': 1996.0}, {'country': \"Cote d'Ivoire\", 'latitude': 7.539989, 'longitude': -5.54708, 'transaction type': 'Obligations', 'amount': 31796806.0, 'year': 1996.0}, {'country': 'Croatia', 'latitude': 45.1, 'longitude': 15.2, 'transaction type': 'Obligations', 'amount': 33392857.0, 'year': 1996.0}, {'country': 'Cuba', 'latitude': 21.521757, 'longitude': -77.78116700000001, 'transaction type': 'Obligations', 'amount': 3649177.0, 'year': 1996.0}, {'country': 'Cyprus', 'latitude': 35.126413, 'longitude': 33.429859, 'transaction type': 'Obligations', 'amount': 13619100.0, 'year': 1996.0}, {'country': 'Czechia', 'latitude': 49.817492, 'longitude': 15.472961999999999, 'transaction type': 'Obligations', 'amount': 23813088.0, 'year': 1996.0}, {'country': 'Djibouti', 'latitude': 11.825138, 'longitude': 42.590275, 'transaction type': 'Obligations', 'amount': 217882.0, 'year': 1996.0}, {'country': 'Dominica', 'latitude': 15.414999, 'longitude': -61.370976, 'transaction type': 'Obligations', 'amount': 123466.0, 'year': 1996.0}, {'country': 'Dominican Republic', 'latitude': 18.735692999999998, 'longitude': -70.162651, 'transaction type': 'Obligations', 'amount': 20579750.0, 'year': 1996.0}, {'country': 'Ecuador', 'latitude': -1.8312389999999998, 'longitude': -78.183406, 'transaction type': 'Obligations', 'amount': 20633427.0, 'year': 1996.0}, {'country': 'Egypt', 'latitude': 26.820553000000004, 'longitude': 30.802497999999996, 'transaction type': 'Obligations', 'amount': 3193282012.0, 'year': 1996.0}, {'country': 'El Salvador', 'latitude': 13.794185, 'longitude': -88.89653, 'transaction type': 'Obligations', 'amount': 114782022.0, 'year': 1996.0}, {'country': 'Equatorial Guinea', 'latitude': 1.6508009999999997, 'longitude': 10.267895, 'transaction type': 'Obligations', 'amount': 291885.0, 'year': 1996.0}, {'country': 'Eritrea', 'latitude': 15.179383999999999, 'longitude': 39.782334000000006, 'transaction type': 'Obligations', 'amount': 23968363.0, 'year': 1996.0}, {'country': 'Estonia', 'latitude': 58.595271999999994, 'longitude': 25.013607, 'transaction type': 'Obligations', 'amount': 7593627.0, 'year': 1996.0}, {'country': 'Eswatini', 'latitude': -26.522503000000004, 'longitude': 31.465866, 'transaction type': 'Obligations', 'amount': 1237571.0, 'year': 1996.0}, {'country': 'Ethiopia', 'latitude': 9.145, 'longitude': 40.489672999999996, 'transaction type': 'Obligations', 'amount': 122963837.0, 'year': 1996.0}, {'country': 'Finland', 'latitude': 61.92411, 'longitude': 25.748151, 'transaction type': 'Obligations', 'amount': 20336.0, 'year': 1996.0}, {'country': 'Gabon', 'latitude': -0.803689, 'longitude': 11.609444, 'transaction type': 'Obligations', 'amount': 3621205.0, 'year': 1996.0}, {'country': 'Gambia', 'latitude': 13.443182, 'longitude': -15.310139000000001, 'transaction type': 'Obligations', 'amount': 6118084.0, 'year': 1996.0}, {'country': 'Georgia', 'latitude': 42.315407, 'longitude': 43.356891999999995, 'transaction type': 'Obligations', 'amount': 89061662.0, 'year': 1996.0}, {'country': 'Ghana', 'latitude': 7.946527000000001, 'longitude': -1.0231940000000002, 'transaction type': 'Obligations', 'amount': 62891187.0, 'year': 1996.0}, {'country': 'Greece', 'latitude': 39.074208, 'longitude': 21.824312, 'transaction type': 'Obligations', 'amount': 380770979.0, 'year': 1996.0}, {'country': 'Grenada', 'latitude': 12.262775999999999, 'longitude': -61.604170999999994, 'transaction type': 'Obligations', 'amount': 596997.0, 'year': 1996.0}, {'country': 'Guatemala', 'latitude': 15.783470999999999, 'longitude': -90.23075899999999, 'transaction type': 'Obligations', 'amount': 53723070.0, 'year': 1996.0}, {'country': 'Guinea', 'latitude': 9.945587, 'longitude': -9.696645, 'transaction type': 'Obligations', 'amount': 23176145.0, 'year': 1996.0}, {'country': 'Guinea-Bissau', 'latitude': 11.803749, 'longitude': -15.180413, 'transaction type': 'Obligations', 'amount': 10637306.0, 'year': 1996.0}, {'country': 'Guyana', 'latitude': 4.860416000000001, 'longitude': -58.93018000000001, 'transaction type': 'Obligations', 'amount': 22195531.0, 'year': 1996.0}, {'country': 'Haiti', 'latitude': 18.971187, 'longitude': -72.28521500000001, 'transaction type': 'Obligations', 'amount': 127503314.0, 'year': 1996.0}, {'country': 'Honduras', 'latitude': 15.199998999999998, 'longitude': -86.241905, 'transaction type': 'Obligations', 'amount': 30805950.0, 'year': 1996.0}, {'country': 'Hungary', 'latitude': 47.162494, 'longitude': 19.503304, 'transaction type': 'Obligations', 'amount': 34732796.0, 'year': 1996.0}, {'country': 'India', 'latitude': 20.593684, 'longitude': 78.96288, 'transaction type': 'Obligations', 'amount': 217820186.0, 'year': 1996.0}, {'country': 'Indonesia', 'latitude': -0.789275, 'longitude': 113.921327, 'transaction type': 'Obligations', 'amount': 49872087.0, 'year': 1996.0}, {'country': 'Iran', 'latitude': 32.427908, 'longitude': 53.68804599999999, 'transaction type': 'Obligations', 'amount': 36314.0, 'year': 1996.0}, {'country': 'Iraq', 'latitude': 33.223191, 'longitude': 43.679291, 'transaction type': 'Obligations', 'amount': 10629608.0, 'year': 1996.0}, {'country': 'Israel', 'latitude': 31.046051000000002, 'longitude': 34.851612, 'transaction type': 'Obligations', 'amount': 4561865902.0, 'year': 1996.0}, {'country': 'Jamaica', 'latitude': 18.109581, 'longitude': -77.297508, 'transaction type': 'Obligations', 'amount': 49053304.0, 'year': 1996.0}, {'country': 'Jordan', 'latitude': 30.585164000000002, 'longitude': 36.238414, 'transaction type': 'Obligations', 'amount': 334739817.0, 'year': 1996.0}, {'country': 'Kazakhstan', 'latitude': 48.019573, 'longitude': 66.923684, 'transaction type': 'Obligations', 'amount': 100755284.0, 'year': 1996.0}, {'country': 'Kenya', 'latitude': -0.023559, 'longitude': 37.906193, 'transaction type': 'Obligations', 'amount': 25757478.0, 'year': 1996.0}, {'country': 'Korea Republic', 'latitude': 35.907757000000004, 'longitude': 127.766922, 'transaction type': 'Obligations', 'amount': 13073.0, 'year': 1996.0}, {'country': 'Korea, Democratic Republic', 'latitude': 40.339852, 'longitude': 127.510093, 'transaction type': 'Obligations', 'amount': 9131449.0, 'year': 1996.0}, {'country': 'Kuwait', 'latitude': 29.311659999999996, 'longitude': 47.481766, 'transaction type': 'Obligations', 'amount': 146029.0, 'year': 1996.0}, {'country': 'Kyrgyzstan', 'latitude': 41.20438, 'longitude': 74.766098, 'transaction type': 'Obligations', 'amount': 58691031.0, 'year': 1996.0}, {'country': 'Laos', 'latitude': 19.856270000000002, 'longitude': 102.495496, 'transaction type': 'Obligations', 'amount': 3631373.0, 'year': 1996.0}, {'country': 'Latvia', 'latitude': 56.879635, 'longitude': 24.603189, 'transaction type': 'Obligations', 'amount': 13305726.0, 'year': 1996.0}, {'country': 'Lebanon', 'latitude': 33.854721000000005, 'longitude': 35.862285, 'transaction type': 'Obligations', 'amount': 13336447.0, 'year': 1996.0}, {'country': 'Lesotho', 'latitude': -29.609988, 'longitude': 28.233608, 'transaction type': 'Obligations', 'amount': 3227565.0, 'year': 1996.0}, {'country': 'Liberia', 'latitude': 6.4280550000000005, 'longitude': -9.429499, 'transaction type': 'Obligations', 'amount': 101656207.0, 'year': 1996.0}, {'country': 'Lithuania', 'latitude': 55.169438, 'longitude': 23.881275, 'transaction type': 'Obligations', 'amount': 31486589.0, 'year': 1996.0}, {'country': 'Macedonia', 'latitude': 41.608635, 'longitude': 21.745275, 'transaction type': 'Obligations', 'amount': 15533560.0, 'year': 1996.0}, {'country': 'Madagascar', 'latitude': -18.766947000000002, 'longitude': 46.869107, 'transaction type': 'Obligations', 'amount': 28522109.0, 'year': 1996.0}, {'country': 'Malawi', 'latitude': -13.254307999999998, 'longitude': 34.301525, 'transaction type': 'Obligations', 'amount': 46200054.0, 'year': 1996.0}, {'country': 'Malaysia', 'latitude': 4.210483999999999, 'longitude': 101.97576600000001, 'transaction type': 'Obligations', 'amount': 1035668.0, 'year': 1996.0}, {'country': 'Maldives', 'latitude': 3.202778, 'longitude': 73.22068, 'transaction type': 'Obligations', 'amount': 145255.0, 'year': 1996.0}, {'country': 'Mali', 'latitude': 17.570692, 'longitude': -3.9961660000000006, 'transaction type': 'Obligations', 'amount': 45198968.0, 'year': 1996.0}, {'country': 'Malta', 'latitude': 35.937496, 'longitude': 14.375416, 'transaction type': 'Obligations', 'amount': 43576.0, 'year': 1996.0}, {'country': 'Marshall Islands', 'latitude': 7.131474000000001, 'longitude': 171.184478, 'transaction type': 'Obligations', 'amount': 63626004.0, 'year': 1996.0}, {'country': 'Mauritania', 'latitude': 21.00789, 'longitude': -10.940835, 'transaction type': 'Obligations', 'amount': 3188564.0, 'year': 1996.0}, {'country': 'Mexico', 'latitude': 23.634501, 'longitude': -102.552784, 'transaction type': 'Obligations', 'amount': 40699916.0, 'year': 1996.0}, {'country': 'Micronesia (Federated States)', 'latitude': 7.425553999999999, 'longitude': 150.550812, 'transaction type': 'Obligations', 'amount': 135024598.0, 'year': 1996.0}, {'country': 'Moldova', 'latitude': 47.411631, 'longitude': 28.369884999999996, 'transaction type': 'Obligations', 'amount': 64362018.0, 'year': 1996.0}, {'country': 'Mongolia', 'latitude': 46.862496, 'longitude': 103.84665600000001, 'transaction type': 'Obligations', 'amount': 7633838.0, 'year': 1996.0}, {'country': 'Montenegro', 'latitude': 42.708678000000006, 'longitude': 19.37439, 'transaction type': 'Obligations', 'amount': 13472392.0, 'year': 1996.0}, {'country': 'Morocco', 'latitude': 31.791702, 'longitude': -7.09262, 'transaction type': 'Obligations', 'amount': 58265939.0, 'year': 1996.0}, {'country': 'Mozambique', 'latitude': -18.665695, 'longitude': 35.529562, 'transaction type': 'Obligations', 'amount': 86710640.0, 'year': 1996.0}, {'country': 'Namibia', 'latitude': -22.957639999999998, 'longitude': 18.49041, 'transaction type': 'Obligations', 'amount': 10684950.0, 'year': 1996.0}, {'country': 'Nepal', 'latitude': 28.394857000000002, 'longitude': 84.12400799999999, 'transaction type': 'Obligations', 'amount': 23236716.0, 'year': 1996.0}, {'country': 'Nicaragua', 'latitude': 12.865416, 'longitude': -85.207229, 'transaction type': 'Obligations', 'amount': 34354433.0, 'year': 1996.0}, {'country': 'Niger', 'latitude': 17.607789, 'longitude': 8.081666, 'transaction type': 'Obligations', 'amount': 7105869.0, 'year': 1996.0}, {'country': 'Nigeria', 'latitude': 9.081999, 'longitude': 8.675277000000001, 'transaction type': 'Obligations', 'amount': 3359826.0, 'year': 1996.0}, {'country': 'Oman', 'latitude': 21.512583, 'longitude': 55.923255000000005, 'transaction type': 'Obligations', 'amount': 989331.0, 'year': 1996.0}, {'country': 'Pakistan', 'latitude': 30.375321000000003, 'longitude': 69.345116, 'transaction type': 'Obligations', 'amount': 24977632.0, 'year': 1996.0}, {'country': 'Palau', 'latitude': 7.51498, 'longitude': 134.58252, 'transaction type': 'Obligations', 'amount': 34168309.0, 'year': 1996.0}, {'country': 'Panama', 'latitude': 8.537981, 'longitude': -80.782127, 'transaction type': 'Obligations', 'amount': 11843793.0, 'year': 1996.0}, {'country': 'Papua New Guinea', 'latitude': -6.314993, 'longitude': 143.95555, 'transaction type': 'Obligations', 'amount': 2401064.0, 'year': 1996.0}, {'country': 'Paraguay', 'latitude': -23.442503, 'longitude': -58.44383199999999, 'transaction type': 'Obligations', 'amount': 8414594.0, 'year': 1996.0}, {'country': 'Peru', 'latitude': -9.189967, 'longitude': -75.015152, 'transaction type': 'Obligations', 'amount': 153316474.0, 'year': 1996.0}, {'country': 'Philippines', 'latitude': 12.879721, 'longitude': 121.77401699999999, 'transaction type': 'Obligations', 'amount': 83723416.0, 'year': 1996.0}, {'country': 'Poland', 'latitude': 51.919438, 'longitude': 19.145135999999997, 'transaction type': 'Obligations', 'amount': 107023545.0, 'year': 1996.0}, {'country': 'Portugal', 'latitude': 39.399871999999995, 'longitude': -8.224454, 'transaction type': 'Obligations', 'amount': 32521157.0, 'year': 1996.0}, {'country': 'Romania', 'latitude': 45.943160999999996, 'longitude': 24.96676, 'transaction type': 'Obligations', 'amount': 57579439.0, 'year': 1996.0}, {'country': 'Russia', 'latitude': 61.52401, 'longitude': 105.31875600000001, 'transaction type': 'Obligations', 'amount': 525940460.0, 'year': 1996.0}, {'country': 'Rwanda', 'latitude': -1.940278, 'longitude': 29.873888, 'transaction type': 'Obligations', 'amount': 201788399.0, 'year': 1996.0}, {'country': 'Samoa', 'latitude': -13.759029, 'longitude': -172.10462900000002, 'transaction type': 'Obligations', 'amount': 1661716.0, 'year': 1996.0}, {'country': 'Sao Tome and Principe', 'latitude': 0.18636, 'longitude': 6.613081, 'transaction type': 'Obligations', 'amount': 1804791.0, 'year': 1996.0}, {'country': 'Saudi Arabia', 'latitude': 23.885942, 'longitude': 45.079162, 'transaction type': 'Obligations', 'amount': 763564.0, 'year': 1996.0}, {'country': 'Senegal', 'latitude': 14.497401000000002, 'longitude': -14.452361999999999, 'transaction type': 'Obligations', 'amount': 29650592.0, 'year': 1996.0}, {'country': 'Serbia', 'latitude': 44.016521000000004, 'longitude': 21.005859, 'transaction type': 'Obligations', 'amount': 13472392.0, 'year': 1996.0}, {'country': 'Seychelles', 'latitude': -4.679574, 'longitude': 55.491977, 'transaction type': 'Obligations', 'amount': 45029.0, 'year': 1996.0}, {'country': 'Sierra Leone', 'latitude': 8.460555000000001, 'longitude': -11.779889, 'transaction type': 'Obligations', 'amount': 41182600.0, 'year': 1996.0}, {'country': 'Singapore', 'latitude': 1.352083, 'longitude': 103.819836, 'transaction type': 'Obligations', 'amount': 29051.0, 'year': 1996.0}, {'country': 'Slovak Republic', 'latitude': 48.669026, 'longitude': 19.699023999999998, 'transaction type': 'Obligations', 'amount': 32486842.0, 'year': 1996.0}, {'country': 'Slovenia', 'latitude': 46.151241, 'longitude': 14.995463, 'transaction type': 'Obligations', 'amount': 5198673.0, 'year': 1996.0}, {'country': 'Solomon Islands', 'latitude': -9.645710000000001, 'longitude': 160.156194, 'transaction type': 'Obligations', 'amount': 123467.0, 'year': 1996.0}, {'country': 'Somalia', 'latitude': 5.152149, 'longitude': 46.199616, 'transaction type': 'Obligations', 'amount': 13725135.0, 'year': 1996.0}, {'country': 'South Africa', 'latitude': -30.559482, 'longitude': 22.937506, 'transaction type': 'Obligations', 'amount': 182432269.0, 'year': 1996.0}, {'country': 'Spain', 'latitude': 40.463667, 'longitude': -3.7492199999999998, 'transaction type': 'Obligations', 'amount': 71175.0, 'year': 1996.0}, {'country': 'Sri Lanka', 'latitude': 7.873054, 'longitude': 80.77179699999999, 'transaction type': 'Obligations', 'amount': 61226461.0, 'year': 1996.0}, {'country': 'St. Kitts and Nevis', 'latitude': 17.357822, 'longitude': -62.782998, 'transaction type': 'Obligations', 'amount': 181568.0, 'year': 1996.0}, {'country': 'St. Lucia', 'latitude': 13.909444, 'longitude': -60.97889300000001, 'transaction type': 'Obligations', 'amount': 171400.0, 'year': 1996.0}, {'country': 'St. Vincent and Grenadines', 'latitude': 12.984305, 'longitude': -61.287228000000006, 'transaction type': 'Obligations', 'amount': 180116.0, 'year': 1996.0}, {'country': 'Suriname', 'latitude': 3.9193050000000005, 'longitude': -56.02778299999999, 'transaction type': 'Obligations', 'amount': 17273713.0, 'year': 1996.0}, {'country': 'Syria', 'latitude': 34.802075, 'longitude': 38.996815000000005, 'transaction type': 'Obligations', 'amount': 884033.0, 'year': 1996.0}, {'country': 'Tajikistan', 'latitude': 38.861034000000004, 'longitude': 71.276093, 'transaction type': 'Obligations', 'amount': 36806033.0, 'year': 1996.0}, {'country': 'Tanzania', 'latitude': -6.369028, 'longitude': 34.888822, 'transaction type': 'Obligations', 'amount': 17787579.0, 'year': 1996.0}, {'country': 'Thailand', 'latitude': 15.870032, 'longitude': 100.992541, 'transaction type': 'Obligations', 'amount': 16704415.0, 'year': 1996.0}, {'country': 'Togo', 'latitude': 8.619543, 'longitude': 0.824782, 'transaction type': 'Obligations', 'amount': 7351351.0, 'year': 1996.0}, {'country': 'Tonga', 'latitude': -21.178986, 'longitude': -175.198242, 'transaction type': 'Obligations', 'amount': 123467.0, 'year': 1996.0}, {'country': 'Trinidad and Tobago', 'latitude': 10.691803, 'longitude': -61.222503, 'transaction type': 'Obligations', 'amount': 854100.0, 'year': 1996.0}, {'country': 'Tunisia', 'latitude': 33.886917, 'longitude': 9.537499, 'transaction type': 'Obligations', 'amount': 10771007.0, 'year': 1996.0}, {'country': 'Turkey', 'latitude': 38.963745, 'longitude': 35.243322, 'transaction type': 'Obligations', 'amount': 678723023.0, 'year': 1996.0}, {'country': 'Turkmenistan', 'latitude': 38.969719, 'longitude': 59.556278000000006, 'transaction type': 'Obligations', 'amount': 42481248.0, 'year': 1996.0}, {'country': 'Turks and Caicos Islands', 'latitude': 21.694025, 'longitude': -71.797928, 'transaction type': 'Obligations', 'amount': 47934.0, 'year': 1996.0}, {'country': 'Uganda', 'latitude': 1.373333, 'longitude': 32.290275, 'transaction type': 'Obligations', 'amount': 63680620.0, 'year': 1996.0}, {'country': 'Ukraine', 'latitude': 48.379433, 'longitude': 31.16558, 'transaction type': 'Obligations', 'amount': 250739559.0, 'year': 1996.0}, {'country': 'Uruguay', 'latitude': -32.522779, 'longitude': -55.765834999999996, 'transaction type': 'Obligations', 'amount': 4393613.0, 'year': 1996.0}, {'country': 'Uzbekistan', 'latitude': 41.377491, 'longitude': 64.585262, 'transaction type': 'Obligations', 'amount': 16365870.0, 'year': 1996.0}, {'country': 'Vanuatu', 'latitude': -15.376706, 'longitude': 166.959158, 'transaction type': 'Obligations', 'amount': 127824.0, 'year': 1996.0}, {'country': 'Venezuela', 'latitude': 6.42375, 'longitude': -66.58973, 'transaction type': 'Obligations', 'amount': 14059557.0, 'year': 1996.0}, {'country': 'Vietnam', 'latitude': 14.058323999999999, 'longitude': 108.277199, 'transaction type': 'Obligations', 'amount': 4225746.0, 'year': 1996.0}, {'country': 'West Bank/Gaza', 'latitude': 31.94639, 'longitude': 35.25974, 'transaction type': 'Obligations', 'amount': 92978390.0, 'year': 1996.0}, {'country': 'Yemen', 'latitude': 15.552726999999999, 'longitude': 48.516388, 'transaction type': 'Obligations', 'amount': 2514952.0, 'year': 1996.0}, {'country': 'Zambia', 'latitude': -13.133897, 'longitude': 27.849332, 'transaction type': 'Obligations', 'amount': 16089885.0, 'year': 1996.0}, {'country': 'Zimbabwe', 'latitude': -19.015438, 'longitude': 29.154857, 'transaction type': 'Obligations', 'amount': 28666055.0, 'year': 1996.0}]\n"
     ]
    }
   ],
   "source": [
    "year = 1996\n",
    "sel = [\n",
    "        aid.country_name,\n",
    "        aid.latitude,\n",
    "        aid.longitude,\n",
    "        aid.transaction_type_name,\n",
    "        func.sum(aid.constant_amount),\n",
    "        aid.fiscal_year        \n",
    "    ]\n",
    "\n",
    "results = db.session.query(*sel).filter(aid.fiscal_year == year).filter(aid.transaction_type_name == \"Obligations\").group_by(aid.country_name, aid.fiscal_year, aid.transaction_type_name)\n",
    "\n",
    "# Create a dictionary entry for each row of information\n",
    "\n",
    "map_data = []\n",
    "for result in results:\n",
    "    aid_dict = {}\n",
    "    aid_dict[\"country\"] = result[0]\n",
    "    aid_dict[\"latitude\"] = result[1]\n",
    "    aid_dict[\"longitude\"] = result[2]\n",
    "    aid_dict[\"transaction type\"] = result[3]\n",
    "    aid_dict[\"amount\"] = result[4]\n",
    "    aid_dict[\"year\"] = result[5]\n",
    "    map_data.append(aid_dict)\n",
    "print(map_data)"
   ]
  },
  {
   "cell_type": "code",
   "execution_count": 4,
   "metadata": {},
   "outputs": [
    {
     "data": {
      "text/html": [
       "<div>\n",
       "<style scoped>\n",
       "    .dataframe tbody tr th:only-of-type {\n",
       "        vertical-align: middle;\n",
       "    }\n",
       "\n",
       "    .dataframe tbody tr th {\n",
       "        vertical-align: top;\n",
       "    }\n",
       "\n",
       "    .dataframe thead th {\n",
       "        text-align: right;\n",
       "    }\n",
       "</style>\n",
       "<table border=\"1\" class=\"dataframe\">\n",
       "  <thead>\n",
       "    <tr style=\"text-align: right;\">\n",
       "      <th></th>\n",
       "      <th>index</th>\n",
       "      <th>country_name</th>\n",
       "      <th>latitude</th>\n",
       "      <th>longitude</th>\n",
       "      <th>region_name</th>\n",
       "      <th>income_group_name</th>\n",
       "      <th>implementing_agency_name</th>\n",
       "      <th>channel_category_name</th>\n",
       "      <th>dac_sector_name</th>\n",
       "      <th>assistance_category_name</th>\n",
       "      <th>transaction_type_name</th>\n",
       "      <th>fiscal_year</th>\n",
       "      <th>constant_amount</th>\n",
       "      <th>USG_sector_name</th>\n",
       "    </tr>\n",
       "  </thead>\n",
       "  <tbody>\n",
       "    <tr>\n",
       "      <th>0</th>\n",
       "      <td>0</td>\n",
       "      <td>Afghanistan</td>\n",
       "      <td>33.93911</td>\n",
       "      <td>67.709953</td>\n",
       "      <td>South and Central Asia</td>\n",
       "      <td>Low Income Country</td>\n",
       "      <td>Department of Defense</td>\n",
       "      <td>Government</td>\n",
       "      <td>Conflict, Peace, and Security</td>\n",
       "      <td>Military</td>\n",
       "      <td>Obligations</td>\n",
       "      <td>2011.0</td>\n",
       "      <td>1.073199e+10</td>\n",
       "      <td>Stabilization Operations and Security Sector R...</td>\n",
       "    </tr>\n",
       "    <tr>\n",
       "      <th>1</th>\n",
       "      <td>1</td>\n",
       "      <td>Afghanistan</td>\n",
       "      <td>33.93911</td>\n",
       "      <td>67.709953</td>\n",
       "      <td>South and Central Asia</td>\n",
       "      <td>Low Income Country</td>\n",
       "      <td>Department of Defense</td>\n",
       "      <td>Government</td>\n",
       "      <td>Conflict, Peace, and Security</td>\n",
       "      <td>Military</td>\n",
       "      <td>Obligations</td>\n",
       "      <td>2012.0</td>\n",
       "      <td>9.799467e+09</td>\n",
       "      <td>Stabilization Operations and Security Sector R...</td>\n",
       "    </tr>\n",
       "    <tr>\n",
       "      <th>2</th>\n",
       "      <td>4</td>\n",
       "      <td>Afghanistan</td>\n",
       "      <td>33.93911</td>\n",
       "      <td>67.709953</td>\n",
       "      <td>South and Central Asia</td>\n",
       "      <td>Low Income Country</td>\n",
       "      <td>Department of Defense</td>\n",
       "      <td>Government</td>\n",
       "      <td>Conflict, Peace, and Security</td>\n",
       "      <td>Military</td>\n",
       "      <td>Obligations</td>\n",
       "      <td>2013.0</td>\n",
       "      <td>7.223113e+09</td>\n",
       "      <td>Stabilization Operations and Security Sector R...</td>\n",
       "    </tr>\n",
       "    <tr>\n",
       "      <th>3</th>\n",
       "      <td>7</td>\n",
       "      <td>Afghanistan</td>\n",
       "      <td>33.93911</td>\n",
       "      <td>67.709953</td>\n",
       "      <td>South and Central Asia</td>\n",
       "      <td>Low Income Country</td>\n",
       "      <td>Department of Defense</td>\n",
       "      <td>Government</td>\n",
       "      <td>Conflict, Peace, and Security</td>\n",
       "      <td>Military</td>\n",
       "      <td>Obligations</td>\n",
       "      <td>2010.0</td>\n",
       "      <td>7.124546e+09</td>\n",
       "      <td>Stabilization Operations and Security Sector R...</td>\n",
       "    </tr>\n",
       "    <tr>\n",
       "      <th>4</th>\n",
       "      <td>9</td>\n",
       "      <td>Afghanistan</td>\n",
       "      <td>33.93911</td>\n",
       "      <td>67.709953</td>\n",
       "      <td>South and Central Asia</td>\n",
       "      <td>Low Income Country</td>\n",
       "      <td>Department of Defense</td>\n",
       "      <td>Government</td>\n",
       "      <td>Conflict, Peace, and Security</td>\n",
       "      <td>Military</td>\n",
       "      <td>Obligations</td>\n",
       "      <td>2015.0</td>\n",
       "      <td>6.104972e+09</td>\n",
       "      <td>Stabilization Operations and Security Sector R...</td>\n",
       "    </tr>\n",
       "  </tbody>\n",
       "</table>\n",
       "</div>"
      ],
      "text/plain": [
       "   index country_name  latitude  longitude             region_name  \\\n",
       "0      0  Afghanistan  33.93911  67.709953  South and Central Asia   \n",
       "1      1  Afghanistan  33.93911  67.709953  South and Central Asia   \n",
       "2      4  Afghanistan  33.93911  67.709953  South and Central Asia   \n",
       "3      7  Afghanistan  33.93911  67.709953  South and Central Asia   \n",
       "4      9  Afghanistan  33.93911  67.709953  South and Central Asia   \n",
       "\n",
       "    income_group_name implementing_agency_name channel_category_name  \\\n",
       "0  Low Income Country    Department of Defense            Government   \n",
       "1  Low Income Country    Department of Defense            Government   \n",
       "2  Low Income Country    Department of Defense            Government   \n",
       "3  Low Income Country    Department of Defense            Government   \n",
       "4  Low Income Country    Department of Defense            Government   \n",
       "\n",
       "                 dac_sector_name assistance_category_name  \\\n",
       "0  Conflict, Peace, and Security                 Military   \n",
       "1  Conflict, Peace, and Security                 Military   \n",
       "2  Conflict, Peace, and Security                 Military   \n",
       "3  Conflict, Peace, and Security                 Military   \n",
       "4  Conflict, Peace, and Security                 Military   \n",
       "\n",
       "  transaction_type_name  fiscal_year  constant_amount  \\\n",
       "0           Obligations       2011.0     1.073199e+10   \n",
       "1           Obligations       2012.0     9.799467e+09   \n",
       "2           Obligations       2013.0     7.223113e+09   \n",
       "3           Obligations       2010.0     7.124546e+09   \n",
       "4           Obligations       2015.0     6.104972e+09   \n",
       "\n",
       "                                     USG_sector_name  \n",
       "0  Stabilization Operations and Security Sector R...  \n",
       "1  Stabilization Operations and Security Sector R...  \n",
       "2  Stabilization Operations and Security Sector R...  \n",
       "3  Stabilization Operations and Security Sector R...  \n",
       "4  Stabilization Operations and Security Sector R...  "
      ]
     },
     "execution_count": 4,
     "metadata": {},
     "output_type": "execute_result"
    }
   ],
   "source": [
    "stmt = db.session.query(aid).statement\n",
    "df = pd.read_sql_query(stmt, db.session.bind)\n",
    "df.head()"
   ]
  },
  {
   "cell_type": "code",
   "execution_count": 5,
   "metadata": {},
   "outputs": [
    {
     "data": {
      "text/html": [
       "<div>\n",
       "<style scoped>\n",
       "    .dataframe tbody tr th:only-of-type {\n",
       "        vertical-align: middle;\n",
       "    }\n",
       "\n",
       "    .dataframe tbody tr th {\n",
       "        vertical-align: top;\n",
       "    }\n",
       "\n",
       "    .dataframe thead th {\n",
       "        text-align: right;\n",
       "    }\n",
       "</style>\n",
       "<table border=\"1\" class=\"dataframe\">\n",
       "  <thead>\n",
       "    <tr style=\"text-align: right;\">\n",
       "      <th></th>\n",
       "      <th>country_name</th>\n",
       "      <th>latitude</th>\n",
       "      <th>longitude</th>\n",
       "      <th>transaction_type_name</th>\n",
       "      <th>constant_amount</th>\n",
       "      <th>fiscal_year</th>\n",
       "    </tr>\n",
       "  </thead>\n",
       "  <tbody>\n",
       "  </tbody>\n",
       "</table>\n",
       "</div>"
      ],
      "text/plain": [
       "Empty DataFrame\n",
       "Columns: [country_name, latitude, longitude, transaction_type_name, constant_amount, fiscal_year]\n",
       "Index: []"
      ]
     },
     "execution_count": 5,
     "metadata": {},
     "output_type": "execute_result"
    }
   ],
   "source": [
    "# Filter the data based on the year\n",
    "year = 2016\n",
    "\n",
    "aid_data = df.loc[(df[\"fiscal_year\"] == year) & (df[\"transaction_type_name\"] == \"Disbursements\"), [\"country_name\", \"latitude\", \"longitude\", \"transaction_type_name\", \"constant_amount\", \"fiscal_year\"]]\n",
    "# Format the data to send as json\n",
    "aid_data.head()\n",
    "\n"
   ]
  },
  {
   "cell_type": "code",
   "execution_count": 7,
   "metadata": {},
   "outputs": [
    {
     "data": {
      "text/html": [
       "<div>\n",
       "<style scoped>\n",
       "    .dataframe tbody tr th:only-of-type {\n",
       "        vertical-align: middle;\n",
       "    }\n",
       "\n",
       "    .dataframe tbody tr th {\n",
       "        vertical-align: top;\n",
       "    }\n",
       "\n",
       "    .dataframe thead th {\n",
       "        text-align: right;\n",
       "    }\n",
       "</style>\n",
       "<table border=\"1\" class=\"dataframe\">\n",
       "  <thead>\n",
       "    <tr style=\"text-align: right;\">\n",
       "      <th></th>\n",
       "      <th>Unnamed: 0</th>\n",
       "      <th>country</th>\n",
       "      <th>year_count</th>\n",
       "    </tr>\n",
       "  </thead>\n",
       "  <tbody>\n",
       "    <tr>\n",
       "      <th>0</th>\n",
       "      <td>0</td>\n",
       "      <td>Afghanistan</td>\n",
       "      <td>19690</td>\n",
       "    </tr>\n",
       "    <tr>\n",
       "      <th>1</th>\n",
       "      <td>1</td>\n",
       "      <td>Albania</td>\n",
       "      <td>4330</td>\n",
       "    </tr>\n",
       "    <tr>\n",
       "      <th>2</th>\n",
       "      <td>2</td>\n",
       "      <td>Algeria</td>\n",
       "      <td>897</td>\n",
       "    </tr>\n",
       "    <tr>\n",
       "      <th>3</th>\n",
       "      <td>3</td>\n",
       "      <td>Angola</td>\n",
       "      <td>5676</td>\n",
       "    </tr>\n",
       "    <tr>\n",
       "      <th>4</th>\n",
       "      <td>4</td>\n",
       "      <td>Anguilla</td>\n",
       "      <td>5</td>\n",
       "    </tr>\n",
       "  </tbody>\n",
       "</table>\n",
       "</div>"
      ],
      "text/plain": [
       "   Unnamed: 0      country  year_count\n",
       "0           0  Afghanistan       19690\n",
       "1           1      Albania        4330\n",
       "2           2      Algeria         897\n",
       "3           3       Angola        5676\n",
       "4           4     Anguilla           5"
      ]
     },
     "execution_count": 7,
     "metadata": {},
     "output_type": "execute_result"
    }
   ],
   "source": [
    "#read the list of countries\n",
    "countries=pd.read_csv(\"./country_name.csv\")\n",
    "countries.head()"
   ]
  },
  {
   "cell_type": "code",
   "execution_count": null,
   "metadata": {},
   "outputs": [],
   "source": []
  },
  {
   "cell_type": "code",
   "execution_count": 4,
   "metadata": {},
   "outputs": [],
   "source": [
    "year = 1996\n",
    "sel = [\n",
    "        aid.assistance_category_name,\n",
    "        aid.transaction_type_name,\n",
    "        db.func.sum(aid.constant_amount),\n",
    "        aid.fiscal_year        \n",
    "    ]\n",
    "results = db.session.query(*sel).filter(aid.fiscal_year == year).filter(aid.transaction_type_name == \"Obligations\").group_by( aid.fiscal_year, aid.assistance_category_name)\n"
   ]
  },
  {
   "cell_type": "code",
   "execution_count": 5,
   "metadata": {},
   "outputs": [
    {
     "data": {
      "text/plain": [
       "[{'assistance type': 'Economic',\n",
       "  'transaction type': 'Obligations',\n",
       "  'amount': 8307155432.0,\n",
       "  'year': 1996.0},\n",
       " {'assistance type': 'Military',\n",
       "  'transaction type': 'Obligations',\n",
       "  'amount': 6826344198.0,\n",
       "  'year': 1996.0}]"
      ]
     },
     "execution_count": 5,
     "metadata": {},
     "output_type": "execute_result"
    }
   ],
   "source": [
    "bar_data = []\n",
    "for result in results:\n",
    "    bar_dict = {}\n",
    "    bar_dict[\"assistance type\"] = result[0]\n",
    "    bar_dict[\"transaction type\"] = result[1]\n",
    "    bar_dict[\"amount\"] = result[2]\n",
    "    bar_dict[\"year\"] = result[3]\n",
    "    bar_data.append(bar_dict)\n",
    "bar_data"
   ]
  },
  {
   "cell_type": "code",
   "execution_count": null,
   "metadata": {},
   "outputs": [],
   "source": []
  },
  {
   "cell_type": "code",
   "execution_count": null,
   "metadata": {},
   "outputs": [],
   "source": []
  },
  {
   "cell_type": "code",
   "execution_count": 8,
   "metadata": {},
   "outputs": [],
   "source": []
  },
  {
   "cell_type": "code",
   "execution_count": null,
   "metadata": {},
   "outputs": [],
   "source": []
  }
 ],
 "metadata": {
  "kernelspec": {
   "display_name": "Python [conda env:PythonData]",
   "language": "python",
   "name": "conda-env-PythonData-py"
  },
  "language_info": {
   "codemirror_mode": {
    "name": "ipython",
    "version": 3
   },
   "file_extension": ".py",
   "mimetype": "text/x-python",
   "name": "python",
   "nbconvert_exporter": "python",
   "pygments_lexer": "ipython3",
   "version": "3.6.5"
  }
 },
 "nbformat": 4,
 "nbformat_minor": 2
}
